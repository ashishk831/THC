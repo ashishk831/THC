{
 "cells": [
  {
   "cell_type": "code",
   "execution_count": 1,
   "metadata": {},
   "outputs": [
    {
     "name": "stderr",
     "output_type": "stream",
     "text": [
      "c:\\Users\\HP\\Desktop\\deepchecks_test\\venv\\lib\\site-packages\\deepchecks\\suites.py:21: DeprecationWarning:\n",
      "\n",
      "Ability to import tabular suites from the `deepchecks.suites` is deprecated, please import from `deepchecks.tabular.suites` instead\n",
      "\n"
     ]
    }
   ],
   "source": [
    "import numpy as np\n",
    "import pandas as pd\n",
    "from sklearn.preprocessing import LabelEncoder\n",
    "from sklearn.model_selection import train_test_split \n",
    "from sklearn.ensemble import RandomForestClassifier\n",
    "import deepchecks\n",
    "from deepchecks.suites import full_suite"
   ]
  },
  {
   "cell_type": "code",
   "execution_count": 2,
   "metadata": {},
   "outputs": [],
   "source": [
    "data = pd.read_csv('KAG_conversion_data.csv')\n",
    "data.gender = data.gender.apply(lambda x: 1 if x==\"M\" else 0)\n",
    "data['CTR'] = ((data['Clicks']/data['Impressions'])*100)\n",
    "data['CPC'] = data['Spent']/data['Clicks']\n",
    "data['CPC'] = data['CPC'].replace(np.nan,0)\n",
    "encoder=LabelEncoder()\n",
    "encoder.fit(data[\"age\"])\n",
    "data[\"age\"]=encoder.transform(data[\"age\"])\n",
    "preprocessed_data = data.copy()\n",
    "X = preprocessed_data.drop([\"Approved_Conversion\",\"xyz_campaign_id\",\"fb_campaign_id\"], axis=1)\n",
    "y = preprocessed_data['Approved_Conversion']"
   ]
  },
  {
   "cell_type": "code",
   "execution_count": 3,
   "metadata": {},
   "outputs": [],
   "source": [
    "# Assuming 'Spent', 'CTR', and 'CPC' are column names\n",
    "columns_to_round = ['Spent', 'CTR', 'CPC']\n",
    "\n",
    "# Rounding to two decimal places\n",
    "X[columns_to_round] = X[columns_to_round].round(2)\n"
   ]
  },
  {
   "cell_type": "code",
   "execution_count": 4,
   "metadata": {},
   "outputs": [
    {
     "data": {
      "text/plain": [
       "0.5109170305676856"
      ]
     },
     "execution_count": 4,
     "metadata": {},
     "output_type": "execute_result"
    }
   ],
   "source": [
    "X_train, X_test, y_train, y_test = train_test_split(X,y,test_size=0.2,random_state=42)\n",
    "rfc = RandomForestClassifier()\n",
    "rfc.fit(X_train,y_train)\n",
    "rfc.score(X_test,y_test)"
   ]
  },
  {
   "cell_type": "code",
   "execution_count": 5,
   "metadata": {},
   "outputs": [
    {
     "name": "stderr",
     "output_type": "stream",
     "text": [
      "c:\\Users\\HP\\Desktop\\deepchecks_test\\venv\\lib\\site-packages\\deepchecks\\__init__.py:136: DeprecationWarning:\n",
      "\n",
      "Ability to import base tabular functionality from the `deepchecks` package directly is deprecated, please import from `deepchecks.tabular` instead\n",
      "\n",
      "c:\\Users\\HP\\Desktop\\deepchecks_test\\venv\\lib\\site-packages\\deepchecks\\__init__.py:136: DeprecationWarning:\n",
      "\n",
      "Ability to import base tabular functionality from the `deepchecks` package directly is deprecated, please import from `deepchecks.tabular` instead\n",
      "\n"
     ]
    }
   ],
   "source": [
    "ds_train  = deepchecks.Dataset(df=X_train,label=y_train,cat_features=['age','gender'])\n",
    "ds_test = deepchecks.Dataset(df=X_test,label=y_test,cat_features=['age','gender'])"
   ]
  },
  {
   "cell_type": "code",
   "execution_count": 6,
   "metadata": {},
   "outputs": [
    {
     "data": {
      "text/html": [
       "\n",
       "    <style>\n",
       "        progress {\n",
       "            -webkit-appearance: none;\n",
       "            border: none;\n",
       "            border-radius: 3px;\n",
       "            width: 300px;\n",
       "            height: 20px;\n",
       "            vertical-align: middle;\n",
       "            margin-right: 10px;\n",
       "            background-color: aliceblue;\n",
       "        }\n",
       "        progress::-webkit-progress-bar {\n",
       "            border-radius: 3px;\n",
       "            background-color: aliceblue;\n",
       "        }\n",
       "        progress::-webkit-progress-value {\n",
       "            background-color: #9d60fb;\n",
       "        }\n",
       "        progress::-moz-progress-bar {\n",
       "            background-color: #9d60fb;\n",
       "        }\n",
       "    </style>\n",
       "    "
      ]
     },
     "metadata": {},
     "output_type": "display_data"
    },
    {
     "data": {
      "text/html": []
     },
     "metadata": {},
     "output_type": "display_data"
    },
    {
     "name": "stderr",
     "output_type": "stream",
     "text": [
      "c:\\Users\\HP\\Desktop\\deepchecks_test\\venv\\lib\\site-packages\\sklearn\\metrics\\_ranking.py:1133: UndefinedMetricWarning:\n",
      "\n",
      "No positive samples in y_true, true positive value should be meaningless\n",
      "\n",
      "c:\\Users\\HP\\Desktop\\deepchecks_test\\venv\\lib\\site-packages\\sklearn\\metrics\\_ranking.py:1133: UndefinedMetricWarning:\n",
      "\n",
      "No positive samples in y_true, true positive value should be meaningless\n",
      "\n",
      "c:\\Users\\HP\\Desktop\\deepchecks_test\\venv\\lib\\site-packages\\sklearn\\metrics\\_ranking.py:1133: UndefinedMetricWarning:\n",
      "\n",
      "No positive samples in y_true, true positive value should be meaningless\n",
      "\n",
      "c:\\Users\\HP\\Desktop\\deepchecks_test\\venv\\lib\\site-packages\\sklearn\\metrics\\_ranking.py:1133: UndefinedMetricWarning:\n",
      "\n",
      "No positive samples in y_true, true positive value should be meaningless\n",
      "\n",
      "c:\\Users\\HP\\Desktop\\deepchecks_test\\venv\\lib\\site-packages\\sklearn\\metrics\\_ranking.py:1133: UndefinedMetricWarning:\n",
      "\n",
      "No positive samples in y_true, true positive value should be meaningless\n",
      "\n",
      "c:\\Users\\HP\\Desktop\\deepchecks_test\\venv\\lib\\site-packages\\sklearn\\metrics\\_ranking.py:1133: UndefinedMetricWarning:\n",
      "\n",
      "No positive samples in y_true, true positive value should be meaningless\n",
      "\n",
      "c:\\Users\\HP\\Desktop\\deepchecks_test\\venv\\lib\\site-packages\\sklearn\\metrics\\_ranking.py:1133: UndefinedMetricWarning:\n",
      "\n",
      "No positive samples in y_true, true positive value should be meaningless\n",
      "\n",
      "deepchecks - WARNING - Scorer F1 return different perfect score for different classes\n",
      "c:\\Users\\HP\\Desktop\\deepchecks_test\\venv\\lib\\site-packages\\deepchecks\\utils\\abstracts\\weak_segment_abstract.py:56: FutureWarning:\n",
      "\n",
      "Setting an item of incompatible dtype is deprecated and will raise in a future error of pandas. Value 'Other' has dtype incompatible with int64, please explicitly cast to a compatible dtype first.\n",
      "\n",
      "c:\\Users\\HP\\Desktop\\deepchecks_test\\venv\\lib\\site-packages\\deepchecks\\utils\\abstracts\\weak_segment_abstract.py:56: FutureWarning:\n",
      "\n",
      "Setting an item of incompatible dtype is deprecated and will raise in a future error of pandas. Value 'Other' has dtype incompatible with int64, please explicitly cast to a compatible dtype first.\n",
      "\n",
      "c:\\Users\\HP\\Desktop\\deepchecks_test\\venv\\lib\\site-packages\\deepchecks\\tabular\\checks\\train_test_validation\\train_test_samples_mix.py:85: FutureWarning:\n",
      "\n",
      "DataFrame.applymap has been deprecated. Use DataFrame.map instead.\n",
      "\n"
     ]
    }
   ],
   "source": [
    "fsuite = full_suite()\n",
    "results = fsuite.run(train_dataset=ds_train,test_dataset=ds_test,model=rfc)"
   ]
  },
  {
   "cell_type": "code",
   "execution_count": 7,
   "metadata": {},
   "outputs": [
    {
     "name": "stderr",
     "output_type": "stream",
     "text": [
      "c:\\Users\\HP\\Desktop\\deepchecks_test\\venv\\lib\\site-packages\\jupyter_client\\session.py:718: UserWarning:\n",
      "\n",
      "Message serialization failed with:\n",
      "Out of range float values are not JSON compliant\n",
      "Supporting this message is deprecated in jupyter-client 7, please make sure your message is JSON-compliant\n",
      "\n"
     ]
    },
    {
     "data": {
      "application/vnd.jupyter.widget-view+json": {
       "model_id": "0c0b2356be2746f5a7f72c0dd962b165",
       "version_major": 2,
       "version_minor": 0
      },
      "text/plain": [
       "Accordion(children=(VBox(children=(HTML(value='\\n<h1 id=\"summary_VE9ZB3PJ7GEENXCFTWOB45U6D\">Full Suite</h1>\\n<…"
      ]
     },
     "metadata": {},
     "output_type": "display_data"
    }
   ],
   "source": [
    "results"
   ]
  }
 ],
 "metadata": {
  "kernelspec": {
   "display_name": "venv",
   "language": "python",
   "name": "python3"
  },
  "language_info": {
   "codemirror_mode": {
    "name": "ipython",
    "version": 3
   },
   "file_extension": ".py",
   "mimetype": "text/x-python",
   "name": "python",
   "nbconvert_exporter": "python",
   "pygments_lexer": "ipython3",
   "version": "3.9.8"
  }
 },
 "nbformat": 4,
 "nbformat_minor": 2
}
